{
  "nbformat": 4,
  "nbformat_minor": 0,
  "metadata": {
    "colab": {
      "provenance": [],
      "authorship_tag": "ABX9TyPoELNDjbdumjn0K7ZDVJef",
      "include_colab_link": true
    },
    "kernelspec": {
      "name": "python3",
      "display_name": "Python 3"
    },
    "language_info": {
      "name": "python"
    }
  },
  "cells": [
    {
      "cell_type": "markdown",
      "metadata": {
        "id": "view-in-github",
        "colab_type": "text"
      },
      "source": [
        "<a href=\"https://colab.research.google.com/github/LaithNidal-777/Titanic/blob/main/Streamlit_py.ipynb\" target=\"_parent\"><img src=\"https://colab.research.google.com/assets/colab-badge.svg\" alt=\"Open In Colab\"/></a>"
      ]
    },
    {
      "cell_type": "code",
      "execution_count": 1,
      "metadata": {
        "id": "ugBjnZiv6vgl",
        "colab": {
          "base_uri": "https://localhost:8080/",
          "height": 384
        },
        "outputId": "3f8b9dac-9136-4ed9-a4df-0d2543250846"
      },
      "outputs": [
        {
          "output_type": "error",
          "ename": "ModuleNotFoundError",
          "evalue": "No module named 'streamlit'",
          "traceback": [
            "\u001b[0;31m---------------------------------------------------------------------------\u001b[0m",
            "\u001b[0;31mModuleNotFoundError\u001b[0m                       Traceback (most recent call last)",
            "\u001b[0;32m<ipython-input-1-dcbbcab6b746>\u001b[0m in \u001b[0;36m<cell line: 3>\u001b[0;34m()\u001b[0m\n\u001b[1;32m      1\u001b[0m \u001b[0;31m#Importing libraries\u001b[0m\u001b[0;34m\u001b[0m\u001b[0;34m\u001b[0m\u001b[0m\n\u001b[1;32m      2\u001b[0m \u001b[0;34m\u001b[0m\u001b[0m\n\u001b[0;32m----> 3\u001b[0;31m \u001b[0;32mimport\u001b[0m \u001b[0mstreamlit\u001b[0m \u001b[0;32mas\u001b[0m \u001b[0mst\u001b[0m\u001b[0;34m\u001b[0m\u001b[0;34m\u001b[0m\u001b[0m\n\u001b[0m\u001b[1;32m      4\u001b[0m \u001b[0;32mimport\u001b[0m \u001b[0mpandas\u001b[0m \u001b[0;32mas\u001b[0m \u001b[0mpd\u001b[0m\u001b[0;34m\u001b[0m\u001b[0;34m\u001b[0m\u001b[0m\n\u001b[1;32m      5\u001b[0m \u001b[0;32mimport\u001b[0m \u001b[0mnumpy\u001b[0m \u001b[0;32mas\u001b[0m \u001b[0mnp\u001b[0m\u001b[0;34m\u001b[0m\u001b[0;34m\u001b[0m\u001b[0m\n",
            "\u001b[0;31mModuleNotFoundError\u001b[0m: No module named 'streamlit'",
            "",
            "\u001b[0;31m---------------------------------------------------------------------------\u001b[0;32m\nNOTE: If your import is failing due to a missing package, you can\nmanually install dependencies using either !pip or !apt.\n\nTo view examples of installing some common dependencies, click the\n\"Open Examples\" button below.\n\u001b[0;31m---------------------------------------------------------------------------\u001b[0m\n"
          ],
          "errorDetails": {
            "actions": [
              {
                "action": "open_url",
                "actionText": "Open Examples",
                "url": "/notebooks/snippets/importing_libraries.ipynb"
              }
            ]
          }
        }
      ],
      "source": [
        "#Importing libraries\n",
        "\n",
        "import streamlit as st\n",
        "import pandas as pd\n",
        "import numpy as np\n",
        "from sklearn.ensemble import RandomForestClassifier\n",
        "from sklearn.linear_model import LogisticRegression\n",
        "from sklearn.model_selection import train_test_split\n",
        "from sklearn.metrics import accuracy_score\n",
        "from sklearn.preprocessing import StandardScaler\n",
        "\n",
        "\n",
        "\n",
        "# Reading csv file\n",
        "\n",
        "test_df = pd.read_csv(\"test_cleaned.csv\")\n",
        "train_df = pd.read_csv(\"train_cleaned.csv\")\n",
        "\n",
        "\n",
        "\n",
        "\n",
        "#Setting Page Cnfirmation\n",
        "\n",
        "st.set_page_config(page_title = \"Titanic Model\", layout =\"centered\")\n",
        "\n",
        "st.markdown(\"<div style='background-color:#219C90; border-radius:50px; align-items:center; justify-content: center;'><h1 style='text-align:center; color:white;'>Titanic Predictor</h1></div>\",unsafe_allow_html=True)\n",
        "\n",
        "st.markdown(\"<h4 style='text-align:center; color:black;'>Find out if you would have survived during the Titanic disaster</h4>\",unsafe_allow_html=True)\n",
        "\n",
        "#Selecting Model\n",
        "\n",
        "classifier_name = st.sidebar.selectbox(\n",
        "    'Select classifier',\n",
        "    ('Logistic Regression', 'Random Forest')\n",
        ")\n",
        "\n",
        "def add_parameter_ui(clf_name):\n",
        "  params = {}\n",
        "  if clf_name == 'Logistic Regression':\n",
        "    C = st.sidebar.slider('C', 0.01, 10.0)\n",
        "    params['C'] = C\n",
        "  else:\n",
        "    max_depth = st.sidebar.slider('max_depth', 2, 15)\n",
        "    params['max_depth'] = max_depth\n",
        "    n_estimators = st.sidebar.slider('n_estimators', 1, 100)\n",
        "    params['n_estimators'] = n_estimators\n",
        "  return params\n",
        "\n",
        "params = add_parameter_ui(classifier_name)\n",
        "\n",
        "def get_classifier(clf_name, params):\n",
        "  clf = None\n",
        "  if clf_name =='Logistic Regression':\n",
        "    clf = LogisticRegression(C = params['C'])\n",
        "  else:\n",
        "    clf = RandomForestClassifier(n_estimators = params['n_estimators'], max_depth = params['max_depth'], random_state = 42)\n",
        "  return clf\n",
        "\n",
        "clf = get_classifier(classifier_name, params)\n",
        "\n",
        "\n",
        "#Styling Streamlit Web App\n",
        "\n",
        "col1, col2 = st.columns(2)\n",
        "\n",
        "with col1:\n",
        "  st.write(\"  \")\n",
        "  st.write(\"  \")\n",
        "  st.write(\"  \")\n",
        "  st.write(\"  \")\n",
        "  st.image(\"titanic.jpg\", use_column_width = True)\n",
        "\n",
        "with col2:\n",
        "  p_class = st.selectbox(label = 'Select your economic class on the titanic', options = train_df['Pclass'].unique(), placeholder = 'Select your economic class on the titanic', index= none)\n",
        "\n",
        "  gender = st.radio(label = 'Select your gender', options = train_df['Sex'].unique(), index= none)\n",
        "\n",
        "  age = st.number_input(label = 'Enter your age',placeholder=\"Enter your age\",value=None,min_value=0,max_value=99,step=1)\n",
        "\n",
        "  col3, col4 = st.columns(2)\n",
        "  with col3:\n",
        "    sibsp = st.number_input(label = 'Enter your number of siblings',placeholder=\"Enter your number of siblings\",value=None,min_value=0,max_value=10,step=1)\n",
        "  with col4:\n",
        "    parch = st.number_input(label = 'Enter your number of parents and children accompanying you on the trip',placeholder=\"Enter your number of parents and children accompanying you on the trip\",value=None,min_value=0,max_value=10,step=1)\n",
        "  col5, col6 = st.columns(2)\n",
        "  with col5:\n",
        "    fare = st.number_input(label = 'Enter your fare',placeholder=\"Enter your fare ( Average Fare for pclass 1 : 84.15, pclass2:20.66, pclass3:13.68)\",value=None,min_value=0,max_value=1000,step=10)\n",
        "  with col6:\n",
        "    embarked = st.selectbox(label = 'Select your port of embarkation', options = train_df['Embarked'].unique(), placeholder = 'Select your port of embarkation (C = Cherbourg, Q = Queenstown, S = Southampton)', index= none)\n",
        "\n",
        "\n",
        "  pred = st.button(\"Predict\", use_container_width = True)\n",
        "\n",
        "  #Creating DataFrame\n",
        "  input_df = pd.DataFrame({'Pclass':[p_class], 'Sex':[gender], 'Age':[age], 'SibSp':[sibsp], 'Parch':[parch], 'Fare':[fare], 'Embarked':[embarked]})\n",
        "\n",
        "  df1 = pd.DataFrame(input_df)\n",
        "\n",
        "\n",
        "  #Defining the correct for Columns\n",
        "\n",
        "model_features = ['Pclass', 'Sex', 'Age', 'Parch', 'Fare', 'Embarked']\n",
        "\n",
        "for feature in model_features:\n",
        "  if feature not in df1.columns:\n",
        "    df1[feature] = 0\n",
        "\n",
        "df1 = df1[model_features]\n",
        "\n",
        "#Making Prediction by Trained ML Model\n",
        "\n",
        "if pred:\n",
        "  if any([p_class is None, gender is None, age is None, sibsp is None, parch is None, fare is None, embarked is None]):\n",
        "    st.error(\"Please , select all inputs before pressing the predict button.\", icon =\"📝\")\n",
        "  else:\n",
        "    prediction = clf.predict(df1)[0]\n",
        "    if prediction < 0:\n",
        "      st.error('Prediction is below 0. Please select valid inputs',icon=\"⚠️\")\n",
        "    else:\n",
        "      st.success(f\"Preidction of your survival is : {prediction}\", icon = \"✅\")\n"
      ]
    },
    {
      "cell_type": "code",
      "source": [],
      "metadata": {
        "id": "1A39Hb2ogEBF"
      },
      "execution_count": 2,
      "outputs": []
    }
  ]
}